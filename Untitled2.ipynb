{
 "cells": [
  {
   "cell_type": "code",
   "execution_count": 1,
   "id": "3ecd08b5-f5aa-4caf-913b-8d1d7738844e",
   "metadata": {},
   "outputs": [],
   "source": [
    "import numpy as np\n",
    "import pandas as pd\n",
    "import selenium\n",
    "from selenium import webdriver\n",
    "from selenium.webdriver.chrome.service import Service\n",
    "from selenium.webdriver.common.by import By\n",
    "from selenium.webdriver.support.ui import WebDriverWait\n",
    "from selenium.webdriver.support import expected_conditions as EC\n",
    "from selenium.webdriver.common.action_chains import ActionChains\n",
    "from selenium.webdriver.common.keys import Keys\n",
    "import time\n",
    "import pyperclip\n",
    "from selenium.webdriver.chrome.service import Service as ChromeService\n",
    "from selenium.webdriver.common.keys import Keys\n",
    "from selenium.webdriver.chrome.options import Options\n",
    "from webdriver_manager.chrome import ChromeDriverManager\n",
    "import warnings\n",
    "warnings.filterwarnings('ignore')"
   ]
  },
  {
   "cell_type": "code",
   "execution_count": 2,
   "id": "886fc63b-fb96-4ac3-8255-b157c68af8e0",
   "metadata": {},
   "outputs": [],
   "source": [
    "my_id = 'rooda7'\n",
    "my_password = 'dlstk1234!@'"
   ]
  },
  {
   "cell_type": "code",
   "execution_count": null,
   "id": "8052df96-2d8d-4ef8-bf0f-d72d2d71968b",
   "metadata": {},
   "outputs": [],
   "source": []
  },
  {
   "cell_type": "code",
   "execution_count": 3,
   "id": "4f3a94d7-3b70-4e4b-9243-76f9ff0b20db",
   "metadata": {},
   "outputs": [
    {
     "name": "stdout",
     "output_type": "stream",
     "text": [
      "▶ Switched to new window: D6D6685320AB04E71273BC57B17B3EEC\n"
     ]
    }
   ],
   "source": [
    "driver = webdriver.Chrome()\n",
    "url = \"http://www.naver.com\"\n",
    "driver.get(url)\n",
    "time.sleep(1)\n",
    "\n",
    "user_id = 'rooda7'\n",
    "user_pw = 'dlstk1234!@'\n",
    "\n",
    "elem = driver.find_element(by=By.CLASS_NAME, value=\"MyView-module__link_login___HpHMW\")\n",
    "elem.click()\n",
    "\n",
    "log_ID = driver.find_element(by=By.ID, value=\"id\")\n",
    "log_ID.click()\n",
    "pyperclip.copy(user_id)\n",
    "log_ID.send_keys(Keys.CONTROL, 'v')\n",
    "time.sleep(1)\n",
    "\n",
    "log_PID = driver.find_element(by=By.ID, value=\"pw\")\n",
    "log_PID.click()\n",
    "pyperclip.copy(user_pw)\n",
    "log_PID.send_keys(Keys.CONTROL, 'v')\n",
    "time.sleep(1)\n",
    "\n",
    "log_ENT = driver.find_element(by=By.ID, value=\"log.login\")\n",
    "log_ENT.click()\n",
    "\n",
    "wait = WebDriverWait(driver, 15)\n",
    "\n",
    "\n",
    "dont_save_button = wait.until(EC.element_to_be_clickable(\n",
    "    (By.XPATH, '//*[@id=\"new.dontsave\"]')\n",
    "))\n",
    "dont_save_button.click()\n",
    "\n",
    "search_param = driver.find_element(by=By.ID,value = 'query')\n",
    "search_param.send_keys('네이버검색광고')\n",
    "search_click = driver.find_element(by=By.ID,value = 'search-btn')\n",
    "search_click.click()\n",
    "\n",
    "\n",
    "link_click = wait.until(EC.element_to_be_clickable(\n",
    "    (By.CLASS_NAME, 'link_name')\n",
    "))\n",
    "link_click.click()\n",
    "\n",
    "time.sleep(2)  \n",
    "original = driver.current_window_handle\n",
    "wait.until(lambda d: len(d.window_handles) > 1)\n",
    "new_window = [h for h in driver.window_handles if h != original][0]\n",
    "driver.switch_to.window(new_window)\n",
    "print(\"▶ Switched to new window:\", new_window)\n",
    "click2 = driver.find_element(by=By.XPATH,value = '/html/body/marvel-root/membership-wrap/div/div/membership-select-account/div/div/div/div[3]/div/div[1]/a')\n",
    "click2.click()\n",
    "\n",
    "\n",
    "click3 = wait.until(EC.element_to_be_clickable(\n",
    "    (By.XPATH, '//*[@id=\"container\"]/my-screen/div/div[1]/div/my-screen-board/div/div[1]/ul/li[1]/a/span')\n",
    "))\n",
    "click3.click()"
   ]
  },
  {
   "cell_type": "markdown",
   "id": "cb66bf64-ba2b-4ec5-b2db-7d54dd433f8c",
   "metadata": {},
   "source": [
    "# 확인버튼 클릭"
   ]
  },
  {
   "cell_type": "markdown",
   "id": "32189f05-c017-40e9-841a-13dfc21d448f",
   "metadata": {},
   "source": [
    "# customerID 입력"
   ]
  },
  {
   "cell_type": "code",
   "execution_count": 4,
   "id": "907771ee-5e61-4ffd-b822-921cf0817cbf",
   "metadata": {},
   "outputs": [
    {
     "ename": "SyntaxError",
     "evalue": "invalid syntax (2753002954.py, line 1)",
     "output_type": "error",
     "traceback": [
      "\u001b[1;36m  Cell \u001b[1;32mIn[4], line 1\u001b[1;36m\u001b[0m\n\u001b[1;33m    ------------------------------------------------\u001b[0m\n\u001b[1;37m                                                    ^\u001b[0m\n\u001b[1;31mSyntaxError\u001b[0m\u001b[1;31m:\u001b[0m invalid syntax\n"
     ]
    }
   ],
   "source": [
    "------------------------------------------------"
   ]
  },
  {
   "cell_type": "code",
   "execution_count": 5,
   "id": "10cdad0c-d844-4bef-b208-8dd2a51ec76f",
   "metadata": {},
   "outputs": [
    {
     "name": "stdout",
     "output_type": "stream",
     "text": [
      "▶ Switched to new window: 525136609B8F1F7AAE7373274040F8FD\n",
      "▶ Switched to new window: A22A95145704B008BBA64048DFC47248\n"
     ]
    }
   ],
   "source": [
    "wait = WebDriverWait(driver, 15)\n",
    "time.sleep(1)\n",
    "original = driver.current_window_handle\n",
    "wait.until(lambda d: len(d.window_handles) > 1)\n",
    "new_window = [h for h in driver.window_handles if h != original][0]\n",
    "driver.switch_to.window(new_window)\n",
    "print(\"▶ Switched to new window:\", new_window)\n",
    "time.sleep(1)\n",
    "\n",
    "new_window = [h for h in driver.window_handles if h != original][2]\n",
    "driver.switch_to.window(new_window)\n",
    "print(\"▶ Switched to new window:\", new_window)\n",
    "\n",
    "# XPath 로 버튼이 클릭 가능해질 때까지 최대 10초 대기\n",
    "bt_click = wait.until(EC.element_to_be_clickable(\n",
    "    (By.XPATH, '//*[@id=\"root\"]/div[2]/div[1]/div/div[1]/div[1]/div[2]/div[1]/button/div')\n",
    "))\n",
    "bt_click.click()\n",
    "\n",
    "cus_id = '461992'\n",
    "\n",
    "cus_input = driver.find_element(By.CLASS_NAME, 'form-control')\n",
    "cus_input.click()\n",
    "cus_input.send_keys(Keys.TAB)\n",
    "next_input = driver.switch_to.active_element\n",
    "next_input.send_keys(cus_id)\n",
    "active = driver.switch_to.active_element\n",
    "active.send_keys(Keys.ENTER)\n",
    "time.sleep(1)"
   ]
  },
  {
   "cell_type": "markdown",
   "id": "7a5d0c72-e021-4201-bb51-554c02f08143",
   "metadata": {},
   "source": [
    "# 바로 연결안됨"
   ]
  },
  {
   "cell_type": "code",
   "execution_count": 6,
   "id": "4ff084d5-bba3-4318-a329-bd10f522e510",
   "metadata": {},
   "outputs": [],
   "source": [
    "# 아라으ㅏㄹㅇ릐ㅣ읭ㄹ이ㅡㅇ릐"
   ]
  },
  {
   "cell_type": "code",
   "execution_count": 7,
   "id": "c3edd69c-61dd-4af2-b743-3228db2db8cf",
   "metadata": {},
   "outputs": [],
   "source": [
    "report_bt = wait.until(EC.element_to_be_clickable(\n",
    "    (By.XPATH, '//*[@id=\"root\"]/div[2]/div[1]/div/div[1]/div[2]/div/div/div[1]/ul/li[3]/div/a/span')\n",
    "))\n",
    "report_bt.click()"
   ]
  },
  {
   "cell_type": "code",
   "execution_count": 8,
   "id": "0a25b334-838e-4a31-b8cd-d150eeea7aae",
   "metadata": {},
   "outputs": [],
   "source": [
    "wait.until(EC.visibility_of_element_located(\n",
    "    (By.XPATH, '//*[@id=\"root\"]/div[2]/div[1]/div/div[1]/div[2]/div/div/div[1]/ul/li[3]/div/div')\n",
    "))\n",
    "report_btt = wait.until(EC.element_to_be_clickable(\n",
    "    (By.XPATH, '//*[@id=\"root\"]/div[2]/div[1]/div/div[1]/div[2]/div/div/div[1]/ul/li[3]/div/div/div[1]/a/button')\n",
    "))\n",
    "report_btt.click()"
   ]
  },
  {
   "cell_type": "code",
   "execution_count": 9,
   "id": "854e7250-0626-46b6-b7f7-6907c07f924d",
   "metadata": {},
   "outputs": [],
   "source": [
    "wait = WebDriverWait(driver, 15)\n",
    "power_click = wait.until(EC.element_to_be_clickable(\n",
    "    (By.XPATH, '//*[@id=\"root\"]/div[2]/div[2]/div/div/div[4]/div/div[3]/table/tbody/tr[1]/td[2]/a')\n",
    "))\n",
    "power_click.click()\n",
    "time.sleep(1)"
   ]
  },
  {
   "cell_type": "code",
   "execution_count": 10,
   "id": "5e05b6ce-76c8-4b88-b920-3b8d5cde32c1",
   "metadata": {},
   "outputs": [],
   "source": [
    "download_bt = driver.find_element(by=By.XPATH,value='//*[@id=\"root\"]/div[2]/div[2]/div/div/div[1]/div[2]/button')\n",
    "download_bt.click()\n",
    "time.sleep(1)"
   ]
  },
  {
   "cell_type": "code",
   "execution_count": 11,
   "id": "bf83670a-696f-4fd8-8ec9-7d45ac0f3517",
   "metadata": {},
   "outputs": [],
   "source": [
    "driver.back()"
   ]
  },
  {
   "cell_type": "code",
   "execution_count": 12,
   "id": "dc36f0f1-54f9-4a04-bbba-7d71a657fad8",
   "metadata": {},
   "outputs": [],
   "source": [
    "daily_click = wait.until(EC.element_to_be_clickable(\n",
    "    (By.XPATH, '//*[@id=\"root\"]/div[2]/div[2]/div/div/div[4]/div/div[3]/table/tbody/tr[2]/td[2]/a')\n",
    "))\n",
    "daily_click.click()\n",
    "time.sleep(1)"
   ]
  },
  {
   "cell_type": "code",
   "execution_count": 13,
   "id": "34e79415-d7f3-4129-8c74-f12d976a26d1",
   "metadata": {},
   "outputs": [],
   "source": [
    "download_bt2 = driver.find_element(by=By.XPATH,value='//*[@id=\"root\"]/div[2]/div[2]/div/div/div[1]/div[2]/button')\n",
    "download_bt2.click()\n",
    "time.sleep(1)"
   ]
  },
  {
   "cell_type": "code",
   "execution_count": 14,
   "id": "1ad6dcd2-d763-4630-85b8-7e6df23eb3d3",
   "metadata": {},
   "outputs": [],
   "source": [
    "driver.back()\n",
    "time.sleep(1)"
   ]
  },
  {
   "cell_type": "code",
   "execution_count": 15,
   "id": "66642231-5c0d-4496-a972-25841ef7cf64",
   "metadata": {},
   "outputs": [],
   "source": [
    "byday_click = wait.until(EC.element_to_be_clickable(\n",
    "    (By.XPATH, '//*[@id=\"root\"]/div[2]/div[2]/div/div/div[4]/div/div[3]/table/tbody/tr[3]/td[2]/a')\n",
    "))\n",
    "byday_click.click()"
   ]
  },
  {
   "cell_type": "code",
   "execution_count": 16,
   "id": "87de36d5-a33e-45c3-bd23-4a8fd4bd45be",
   "metadata": {},
   "outputs": [],
   "source": [
    "download_bt3 = driver.find_element(by=By.XPATH,value='//*[@id=\"root\"]/div[2]/div[2]/div/div/div[1]/div[2]/button')\n",
    "download_bt3.click()"
   ]
  },
  {
   "cell_type": "code",
   "execution_count": null,
   "id": "c5d886e8-c960-446a-afc6-6d1589ba0cad",
   "metadata": {},
   "outputs": [],
   "source": []
  },
  {
   "cell_type": "code",
   "execution_count": null,
   "id": "20df107f-79f2-4cb1-b408-9170ec8b0ac5",
   "metadata": {},
   "outputs": [],
   "source": []
  },
  {
   "cell_type": "code",
   "execution_count": null,
   "id": "9e23ec97-ffe6-44ae-a90e-8d4a1a26a1e2",
   "metadata": {},
   "outputs": [],
   "source": []
  },
  {
   "cell_type": "code",
   "execution_count": null,
   "id": "8774ea8a-7e81-46b1-ba89-11816e7dd3c4",
   "metadata": {},
   "outputs": [],
   "source": []
  },
  {
   "cell_type": "code",
   "execution_count": null,
   "id": "cb176632-e7d0-4d92-8131-fdfbae391a22",
   "metadata": {},
   "outputs": [],
   "source": []
  },
  {
   "cell_type": "code",
   "execution_count": null,
   "id": "2e26ea57-055e-45b7-a5d6-f926faf60192",
   "metadata": {},
   "outputs": [],
   "source": []
  },
  {
   "cell_type": "code",
   "execution_count": null,
   "id": "bb4a4afc-fab7-4c89-930a-fe04b33a375a",
   "metadata": {},
   "outputs": [],
   "source": []
  },
  {
   "cell_type": "code",
   "execution_count": null,
   "id": "47ec50af-6139-4e03-84d1-046de3704e02",
   "metadata": {},
   "outputs": [],
   "source": []
  },
  {
   "cell_type": "code",
   "execution_count": null,
   "id": "efd8fb24-38d4-45f2-a8a7-5007765e4cf0",
   "metadata": {},
   "outputs": [],
   "source": []
  },
  {
   "cell_type": "code",
   "execution_count": null,
   "id": "3b0a4e37-2731-427f-bad6-c51f39e5b7f5",
   "metadata": {},
   "outputs": [],
   "source": []
  }
 ],
 "metadata": {
  "kernelspec": {
   "display_name": "Python [conda env:base] *",
   "language": "python",
   "name": "conda-base-py"
  },
  "language_info": {
   "codemirror_mode": {
    "name": "ipython",
    "version": 3
   },
   "file_extension": ".py",
   "mimetype": "text/x-python",
   "name": "python",
   "nbconvert_exporter": "python",
   "pygments_lexer": "ipython3",
   "version": "3.13.5"
  }
 },
 "nbformat": 4,
 "nbformat_minor": 5
}
