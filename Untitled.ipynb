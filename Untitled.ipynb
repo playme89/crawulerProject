{
 "cells": [
  {
   "cell_type": "code",
   "execution_count": 1,
   "id": "3ecd08b5-f5aa-4caf-913b-8d1d7738844e",
   "metadata": {},
   "outputs": [],
   "source": [
    "import numpy as np\n",
    "import pandas as pd\n",
    "import selenium\n",
    "from selenium import webdriver\n",
    "from selenium.webdriver.chrome.service import Service\n",
    "from selenium.webdriver.common.by import By\n",
    "from selenium.webdriver.support.ui import WebDriverWait\n",
    "from selenium.webdriver.support import expected_conditions as EC\n",
    "from selenium.webdriver.common.action_chains import ActionChains\n",
    "from selenium.webdriver.common.keys import Keys\n",
    "import time\n",
    "import pyperclip\n",
    "from selenium.webdriver.chrome.options import Options\n",
    "import warnings\n",
    "warnings.filterwarnings('ignore')"
   ]
  },
  {
   "cell_type": "code",
   "execution_count": 2,
   "id": "7b927dbd-b4e8-43c2-806a-c64089bfc018",
   "metadata": {},
   "outputs": [],
   "source": [
    "# service = Service(\"chromedriver.exe\")\n",
    "# driver = webdriver.Chrome(service=service)\n",
    "# url = 'https://naver.com'\n",
    "# driver.get(url)"
   ]
  },
  {
   "cell_type": "code",
   "execution_count": 3,
   "id": "886fc63b-fb96-4ac3-8255-b157c68af8e0",
   "metadata": {},
   "outputs": [],
   "source": [
    "my_id = 'rooda7'\n",
    "my_password = 'dlstk1234!@'"
   ]
  },
  {
   "cell_type": "code",
   "execution_count": 4,
   "id": "0d22f69e-6e78-4c53-9324-0d0843c843d2",
   "metadata": {},
   "outputs": [],
   "source": [
    "# login_click = driver.find_element(By.CLASS_NAME, \"MyView-module__link_login___HpHMW\")\n",
    "# login_click.click()"
   ]
  },
  {
   "cell_type": "code",
   "execution_count": 5,
   "id": "953f7300-1f1a-4354-af04-37596d7a433e",
   "metadata": {},
   "outputs": [],
   "source": [
    "# options = Options()"
   ]
  },
  {
   "cell_type": "code",
   "execution_count": 6,
   "id": "e6c5aefb-cbb1-4370-8a02-29a804aa5558",
   "metadata": {},
   "outputs": [],
   "source": [
    "# options.add_argument(\n",
    "#     \"user-agent=Mozilla/5.0 (Windows NT 10.0; Win64; x64) AppleWebKit/537.36 (KHTML, like Gecko) Chrome/120.0.0.0 Safari/537.36\"\n",
    "# )\n",
    "# options.add_experimental_option(\"excludeSwitches\", [\"enable-automation\"])\n",
    "# options.add_experimental_option(\"useAutomationExtension\", False)"
   ]
  },
  {
   "cell_type": "markdown",
   "id": "f3da7120-cebb-4eb8-b882-39d83aa44b13",
   "metadata": {
    "scrolled": true
   },
   "source": [
    "---------------------------"
   ]
  },
  {
   "cell_type": "code",
   "execution_count": 7,
   "id": "8052df96-2d8d-4ef8-bf0f-d72d2d71968b",
   "metadata": {},
   "outputs": [],
   "source": [
    "from selenium import webdriver\n",
    "from selenium.webdriver.common.by import By\n",
    "from selenium.webdriver.common.action_chains import ActionChains\n",
    "from selenium.webdriver.common.keys import Keys\n",
    "from selenium.webdriver.chrome.service import Service as ChromeService\n",
    "from webdriver_manager.chrome import ChromeDriverManager\n",
    "from webdriver_manager.chrome import ChromeDriverManager\n",
    "from selenium.webdriver.support.ui import WebDriverWait\n",
    "from selenium.webdriver.support import expected_conditions as EC\n",
    "import pyperclip\n",
    "import time"
   ]
  },
  {
   "cell_type": "code",
   "execution_count": 8,
   "id": "4f3a94d7-3b70-4e4b-9243-76f9ff0b20db",
   "metadata": {},
   "outputs": [],
   "source": [
    "driver = webdriver.Chrome()\n",
    "url = \"http://www.naver.com\"\n",
    "driver.get(url)\n",
    "time.sleep(1)\n",
    "\n",
    "user_id = 'rooda7'\n",
    "user_pw = 'dlstk1234!@'\n",
    "\n",
    "elem = driver.find_element(by=By.CLASS_NAME, value=\"MyView-module__link_login___HpHMW\")\n",
    "elem.click()\n",
    "\n",
    "log_ID = driver.find_element(by=By.ID, value=\"id\")\n",
    "log_ID.click()\n",
    "pyperclip.copy(user_id)\n",
    "log_ID.send_keys(Keys.CONTROL, 'v')\n",
    "time.sleep(1)\n",
    "\n",
    "log_PID = driver.find_element(by=By.ID, value=\"pw\")\n",
    "log_PID.click()\n",
    "pyperclip.copy(user_pw)\n",
    "log_PID.send_keys(Keys.CONTROL, 'v')\n",
    "time.sleep(1)\n",
    "\n",
    "log_ENT = driver.find_element(by=By.ID, value=\"log.login\")\n",
    "log_ENT.click()"
   ]
  },
  {
   "cell_type": "code",
   "execution_count": 10,
   "id": "6140e430-f61b-4064-867a-19235bc3052a",
   "metadata": {},
   "outputs": [],
   "source": [
    "dont_save_button = driver.find_element(by=By.ID,value = 'new.dontsave')\n",
    "dont_save_button.click()"
   ]
  },
  {
   "cell_type": "code",
   "execution_count": 11,
   "id": "4ffbb769-86f0-4119-9968-cf195b5fb5e9",
   "metadata": {},
   "outputs": [],
   "source": [
    "search_param = driver.find_element(by=By.ID,value = 'query')\n",
    "search_param.send_keys('네이버검색광고')\n",
    "search_click = driver.find_element(by=By.ID,value = 'search-btn')\n",
    "search_click.click()"
   ]
  },
  {
   "cell_type": "code",
   "execution_count": 12,
   "id": "c6c11841-a949-493f-89d5-be5704cb0d69",
   "metadata": {},
   "outputs": [],
   "source": [
    "link_click = driver.find_element(by=By.CLASS_NAME,value = 'link_name')\n",
    "link_click.click()"
   ]
  },
  {
   "cell_type": "code",
   "execution_count": 20,
   "id": "fa224c8c-7452-4c30-abe0-fc2bc39c9c2e",
   "metadata": {},
   "outputs": [
    {
     "ename": "NoSuchElementException",
     "evalue": "Message: no such element: Unable to locate element: {\"method\":\"xpath\",\"selector\":\"/html/body/marvel-root/membership-wrap/div/div/membership-select-account/div/div/div/div[3]/div/div[1]/a\"}\n  (Session info: chrome=138.0.7204.101); For documentation on this error, please visit: https://www.selenium.dev/documentation/webdriver/troubleshooting/errors#nosuchelementexception\nStacktrace:\n\tGetHandleVerifier [0x0x7ff656a16f75+76917]\n\tGetHandleVerifier [0x0x7ff656a16fd0+77008]\n\t(No symbol) [0x0x7ff6567c9dea]\n\t(No symbol) [0x0x7ff656820256]\n\t(No symbol) [0x0x7ff65682050c]\n\t(No symbol) [0x0x7ff656873887]\n\t(No symbol) [0x0x7ff6568484af]\n\t(No symbol) [0x0x7ff65687065c]\n\t(No symbol) [0x0x7ff656848243]\n\t(No symbol) [0x0x7ff656811431]\n\t(No symbol) [0x0x7ff6568121c3]\n\tGetHandleVerifier [0x0x7ff656ced2ad+3051437]\n\tGetHandleVerifier [0x0x7ff656ce7903+3028483]\n\tGetHandleVerifier [0x0x7ff656d0589d+3151261]\n\tGetHandleVerifier [0x0x7ff656a3183e+185662]\n\tGetHandleVerifier [0x0x7ff656a396ff+218111]\n\tGetHandleVerifier [0x0x7ff656a1faf4+112628]\n\tGetHandleVerifier [0x0x7ff656a1fca9+113065]\n\tGetHandleVerifier [0x0x7ff656a06c78+10616]\n\tBaseThreadInitThunk [0x0x7ffe0bc87374+20]\n\tRtlUserThreadStart [0x0x7ffe0ca5cc91+33]\n",
     "output_type": "error",
     "traceback": [
      "\u001b[1;31m---------------------------------------------------------------------------\u001b[0m",
      "\u001b[1;31mNoSuchElementException\u001b[0m                    Traceback (most recent call last)",
      "Cell \u001b[1;32mIn[20], line 1\u001b[0m\n\u001b[1;32m----> 1\u001b[0m element \u001b[38;5;241m=\u001b[39m driver\u001b[38;5;241m.\u001b[39mfind_element(by\u001b[38;5;241m=\u001b[39mBy\u001b[38;5;241m.\u001b[39mXPATH, value\u001b[38;5;241m=\u001b[39m\u001b[38;5;124m'\u001b[39m\u001b[38;5;124m/html/body/marvel-root/membership-wrap/div/div/membership-select-account/div/div/div/div[3]/div/div[1]/a\u001b[39m\u001b[38;5;124m'\u001b[39m)\n\u001b[0;32m      2\u001b[0m element\u001b[38;5;241m.\u001b[39mclick()\n",
      "File \u001b[1;32m~\\anaconda3\\Lib\\site-packages\\selenium\\webdriver\\remote\\webdriver.py:922\u001b[0m, in \u001b[0;36mWebDriver.find_element\u001b[1;34m(self, by, value)\u001b[0m\n\u001b[0;32m    919\u001b[0m         \u001b[38;5;28;01mraise\u001b[39;00m NoSuchElementException(\u001b[38;5;124mf\u001b[39m\u001b[38;5;124m\"\u001b[39m\u001b[38;5;124mCannot locate relative element with: \u001b[39m\u001b[38;5;132;01m{\u001b[39;00mby\u001b[38;5;241m.\u001b[39mroot\u001b[38;5;132;01m}\u001b[39;00m\u001b[38;5;124m\"\u001b[39m)\n\u001b[0;32m    920\u001b[0m     \u001b[38;5;28;01mreturn\u001b[39;00m elements[\u001b[38;5;241m0\u001b[39m]\n\u001b[1;32m--> 922\u001b[0m \u001b[38;5;28;01mreturn\u001b[39;00m \u001b[38;5;28mself\u001b[39m\u001b[38;5;241m.\u001b[39mexecute(Command\u001b[38;5;241m.\u001b[39mFIND_ELEMENT, {\u001b[38;5;124m\"\u001b[39m\u001b[38;5;124musing\u001b[39m\u001b[38;5;124m\"\u001b[39m: by, \u001b[38;5;124m\"\u001b[39m\u001b[38;5;124mvalue\u001b[39m\u001b[38;5;124m\"\u001b[39m: value})[\u001b[38;5;124m\"\u001b[39m\u001b[38;5;124mvalue\u001b[39m\u001b[38;5;124m\"\u001b[39m]\n",
      "File \u001b[1;32m~\\anaconda3\\Lib\\site-packages\\selenium\\webdriver\\remote\\webdriver.py:454\u001b[0m, in \u001b[0;36mWebDriver.execute\u001b[1;34m(self, driver_command, params)\u001b[0m\n\u001b[0;32m    451\u001b[0m response \u001b[38;5;241m=\u001b[39m cast(RemoteConnection, \u001b[38;5;28mself\u001b[39m\u001b[38;5;241m.\u001b[39mcommand_executor)\u001b[38;5;241m.\u001b[39mexecute(driver_command, params)\n\u001b[0;32m    453\u001b[0m \u001b[38;5;28;01mif\u001b[39;00m response:\n\u001b[1;32m--> 454\u001b[0m     \u001b[38;5;28mself\u001b[39m\u001b[38;5;241m.\u001b[39merror_handler\u001b[38;5;241m.\u001b[39mcheck_response(response)\n\u001b[0;32m    455\u001b[0m     response[\u001b[38;5;124m\"\u001b[39m\u001b[38;5;124mvalue\u001b[39m\u001b[38;5;124m\"\u001b[39m] \u001b[38;5;241m=\u001b[39m \u001b[38;5;28mself\u001b[39m\u001b[38;5;241m.\u001b[39m_unwrap_value(response\u001b[38;5;241m.\u001b[39mget(\u001b[38;5;124m\"\u001b[39m\u001b[38;5;124mvalue\u001b[39m\u001b[38;5;124m\"\u001b[39m, \u001b[38;5;28;01mNone\u001b[39;00m))\n\u001b[0;32m    456\u001b[0m     \u001b[38;5;28;01mreturn\u001b[39;00m response\n",
      "File \u001b[1;32m~\\anaconda3\\Lib\\site-packages\\selenium\\webdriver\\remote\\errorhandler.py:232\u001b[0m, in \u001b[0;36mErrorHandler.check_response\u001b[1;34m(self, response)\u001b[0m\n\u001b[0;32m    230\u001b[0m         alert_text \u001b[38;5;241m=\u001b[39m value[\u001b[38;5;124m\"\u001b[39m\u001b[38;5;124malert\u001b[39m\u001b[38;5;124m\"\u001b[39m]\u001b[38;5;241m.\u001b[39mget(\u001b[38;5;124m\"\u001b[39m\u001b[38;5;124mtext\u001b[39m\u001b[38;5;124m\"\u001b[39m)\n\u001b[0;32m    231\u001b[0m     \u001b[38;5;28;01mraise\u001b[39;00m exception_class(message, screen, stacktrace, alert_text)  \u001b[38;5;66;03m# type: ignore[call-arg]  # mypy is not smart enough here\u001b[39;00m\n\u001b[1;32m--> 232\u001b[0m \u001b[38;5;28;01mraise\u001b[39;00m exception_class(message, screen, stacktrace)\n",
      "\u001b[1;31mNoSuchElementException\u001b[0m: Message: no such element: Unable to locate element: {\"method\":\"xpath\",\"selector\":\"/html/body/marvel-root/membership-wrap/div/div/membership-select-account/div/div/div/div[3]/div/div[1]/a\"}\n  (Session info: chrome=138.0.7204.101); For documentation on this error, please visit: https://www.selenium.dev/documentation/webdriver/troubleshooting/errors#nosuchelementexception\nStacktrace:\n\tGetHandleVerifier [0x0x7ff656a16f75+76917]\n\tGetHandleVerifier [0x0x7ff656a16fd0+77008]\n\t(No symbol) [0x0x7ff6567c9dea]\n\t(No symbol) [0x0x7ff656820256]\n\t(No symbol) [0x0x7ff65682050c]\n\t(No symbol) [0x0x7ff656873887]\n\t(No symbol) [0x0x7ff6568484af]\n\t(No symbol) [0x0x7ff65687065c]\n\t(No symbol) [0x0x7ff656848243]\n\t(No symbol) [0x0x7ff656811431]\n\t(No symbol) [0x0x7ff6568121c3]\n\tGetHandleVerifier [0x0x7ff656ced2ad+3051437]\n\tGetHandleVerifier [0x0x7ff656ce7903+3028483]\n\tGetHandleVerifier [0x0x7ff656d0589d+3151261]\n\tGetHandleVerifier [0x0x7ff656a3183e+185662]\n\tGetHandleVerifier [0x0x7ff656a396ff+218111]\n\tGetHandleVerifier [0x0x7ff656a1faf4+112628]\n\tGetHandleVerifier [0x0x7ff656a1fca9+113065]\n\tGetHandleVerifier [0x0x7ff656a06c78+10616]\n\tBaseThreadInitThunk [0x0x7ffe0bc87374+20]\n\tRtlUserThreadStart [0x0x7ffe0ca5cc91+33]\n"
     ]
    }
   ],
   "source": [
    "element = driver.find_element(by=By.XPATH, value='/html/body/marvel-root/membership-wrap/div/div/membership-select-account/div/div/div/div[3]/div/div[1]/a')\n",
    "element.click()"
   ]
  },
  {
   "cell_type": "code",
   "execution_count": null,
   "id": "b1d9ff81-21cc-46b3-9249-fa9ecd8cd0fa",
   "metadata": {},
   "outputs": [],
   "source": []
  },
  {
   "cell_type": "code",
   "execution_count": null,
   "id": "e9bda886-9e98-4e1e-8fed-819437c95bb6",
   "metadata": {},
   "outputs": [],
   "source": []
  },
  {
   "cell_type": "code",
   "execution_count": null,
   "id": "f32744b6-80bd-4852-8c98-a7fbe1870d21",
   "metadata": {},
   "outputs": [],
   "source": []
  },
  {
   "cell_type": "code",
   "execution_count": null,
   "id": "b1b6f984-2899-4b15-8e88-566898f76861",
   "metadata": {},
   "outputs": [],
   "source": []
  },
  {
   "cell_type": "code",
   "execution_count": null,
   "id": "7d2a89f5-c66b-419d-9827-ec5361281094",
   "metadata": {},
   "outputs": [],
   "source": []
  },
  {
   "cell_type": "code",
   "execution_count": null,
   "id": "e01b0c7b-ac8f-4d68-b174-dbb484c66274",
   "metadata": {},
   "outputs": [],
   "source": []
  }
 ],
 "metadata": {
  "kernelspec": {
   "display_name": "Python [conda env:base] *",
   "language": "python",
   "name": "conda-base-py"
  },
  "language_info": {
   "codemirror_mode": {
    "name": "ipython",
    "version": 3
   },
   "file_extension": ".py",
   "mimetype": "text/x-python",
   "name": "python",
   "nbconvert_exporter": "python",
   "pygments_lexer": "ipython3",
   "version": "3.13.5"
  }
 },
 "nbformat": 4,
 "nbformat_minor": 5
}
